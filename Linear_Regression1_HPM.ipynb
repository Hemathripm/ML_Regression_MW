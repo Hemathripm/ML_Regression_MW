{
 "cells": [
  {
   "cell_type": "code",
   "execution_count": 4,
   "metadata": {},
   "outputs": [],
   "source": [
    "import pandas as pd\n",
    "import numpy as np\n",
    "import matplotlib.pyplot as plt\n",
    "import seaborn as sns\n",
    "from sklearn.linear_model import LinearRegression"
   ]
  },
  {
   "cell_type": "code",
   "execution_count": 5,
   "metadata": {},
   "outputs": [],
   "source": [
    "data=pd.read_csv('Loan_Amount_prediction.csv')"
   ]
  },
  {
   "cell_type": "code",
   "execution_count": 6,
   "metadata": {},
   "outputs": [
    {
     "data": {
      "text/html": [
       "<div>\n",
       "<style scoped>\n",
       "    .dataframe tbody tr th:only-of-type {\n",
       "        vertical-align: middle;\n",
       "    }\n",
       "\n",
       "    .dataframe tbody tr th {\n",
       "        vertical-align: top;\n",
       "    }\n",
       "\n",
       "    .dataframe thead th {\n",
       "        text-align: right;\n",
       "    }\n",
       "</style>\n",
       "<table border=\"1\" class=\"dataframe\">\n",
       "  <thead>\n",
       "    <tr style=\"text-align: right;\">\n",
       "      <th></th>\n",
       "      <th>Serial</th>\n",
       "      <th>PRODUCT</th>\n",
       "      <th>AMOUNT</th>\n",
       "      <th>TYPE</th>\n",
       "      <th>ROI</th>\n",
       "      <th>CHAN</th>\n",
       "      <th>LOWEST</th>\n",
       "      <th>HIGHEST</th>\n",
       "      <th>SCORE</th>\n",
       "      <th>LTV</th>\n",
       "      <th>PRED</th>\n",
       "    </tr>\n",
       "  </thead>\n",
       "  <tbody>\n",
       "    <tr>\n",
       "      <th>0</th>\n",
       "      <td>1</td>\n",
       "      <td>1</td>\n",
       "      <td>1600000</td>\n",
       "      <td>F</td>\n",
       "      <td>14.0</td>\n",
       "      <td>C</td>\n",
       "      <td>3741600.0</td>\n",
       "      <td>3951900.00</td>\n",
       "      <td>699</td>\n",
       "      <td>0.427625</td>\n",
       "      <td>1600000</td>\n",
       "    </tr>\n",
       "    <tr>\n",
       "      <th>1</th>\n",
       "      <td>2</td>\n",
       "      <td>1</td>\n",
       "      <td>1600000</td>\n",
       "      <td>F</td>\n",
       "      <td>14.0</td>\n",
       "      <td>C</td>\n",
       "      <td>9836182.8</td>\n",
       "      <td>10012000.49</td>\n",
       "      <td>739</td>\n",
       "      <td>0.162665</td>\n",
       "      <td>1600000</td>\n",
       "    </tr>\n",
       "    <tr>\n",
       "      <th>2</th>\n",
       "      <td>3</td>\n",
       "      <td>1</td>\n",
       "      <td>5000000</td>\n",
       "      <td>F</td>\n",
       "      <td>12.0</td>\n",
       "      <td>A</td>\n",
       "      <td>19327000.0</td>\n",
       "      <td>20113500.00</td>\n",
       "      <td>755</td>\n",
       "      <td>0.258705</td>\n",
       "      <td>5000000</td>\n",
       "    </tr>\n",
       "    <tr>\n",
       "      <th>3</th>\n",
       "      <td>4</td>\n",
       "      <td>1</td>\n",
       "      <td>2200000</td>\n",
       "      <td>B</td>\n",
       "      <td>12.0</td>\n",
       "      <td>T</td>\n",
       "      <td>3669600.0</td>\n",
       "      <td>3845600.00</td>\n",
       "      <td>721</td>\n",
       "      <td>0.599520</td>\n",
       "      <td>2200000</td>\n",
       "    </tr>\n",
       "    <tr>\n",
       "      <th>4</th>\n",
       "      <td>5</td>\n",
       "      <td>1</td>\n",
       "      <td>2950000</td>\n",
       "      <td>F</td>\n",
       "      <td>11.0</td>\n",
       "      <td>A</td>\n",
       "      <td>5900000.0</td>\n",
       "      <td>6160000.00</td>\n",
       "      <td>0</td>\n",
       "      <td>0.500000</td>\n",
       "      <td>2950000</td>\n",
       "    </tr>\n",
       "  </tbody>\n",
       "</table>\n",
       "</div>"
      ],
      "text/plain": [
       "   Serial  PRODUCT   AMOUNT TYPE   ROI CHAN      LOWEST      HIGHEST  SCORE  \\\n",
       "0       1        1  1600000    F  14.0    C   3741600.0   3951900.00    699   \n",
       "1       2        1  1600000    F  14.0    C   9836182.8  10012000.49    739   \n",
       "2       3        1  5000000    F  12.0    A  19327000.0  20113500.00    755   \n",
       "3       4        1  2200000    B  12.0    T   3669600.0   3845600.00    721   \n",
       "4       5        1  2950000    F  11.0    A   5900000.0   6160000.00      0   \n",
       "\n",
       "        LTV     PRED  \n",
       "0  0.427625  1600000  \n",
       "1  0.162665  1600000  \n",
       "2  0.258705  5000000  \n",
       "3  0.599520  2200000  \n",
       "4  0.500000  2950000  "
      ]
     },
     "execution_count": 6,
     "metadata": {},
     "output_type": "execute_result"
    }
   ],
   "source": [
    "data.head()"
   ]
  },
  {
   "cell_type": "code",
   "execution_count": 88,
   "metadata": {},
   "outputs": [
    {
     "data": {
      "text/html": [
       "<div>\n",
       "<style scoped>\n",
       "    .dataframe tbody tr th:only-of-type {\n",
       "        vertical-align: middle;\n",
       "    }\n",
       "\n",
       "    .dataframe tbody tr th {\n",
       "        vertical-align: top;\n",
       "    }\n",
       "\n",
       "    .dataframe thead th {\n",
       "        text-align: right;\n",
       "    }\n",
       "</style>\n",
       "<table border=\"1\" class=\"dataframe\">\n",
       "  <thead>\n",
       "    <tr style=\"text-align: right;\">\n",
       "      <th></th>\n",
       "      <th>Serial</th>\n",
       "      <th>PRODUCT</th>\n",
       "      <th>AMOUNT</th>\n",
       "      <th>ROI</th>\n",
       "      <th>LOWEST</th>\n",
       "      <th>HIGHEST</th>\n",
       "      <th>SCORE</th>\n",
       "      <th>LTV</th>\n",
       "      <th>PRED</th>\n",
       "    </tr>\n",
       "  </thead>\n",
       "  <tbody>\n",
       "    <tr>\n",
       "      <th>count</th>\n",
       "      <td>797.000000</td>\n",
       "      <td>797.0</td>\n",
       "      <td>7.970000e+02</td>\n",
       "      <td>796.000000</td>\n",
       "      <td>7.970000e+02</td>\n",
       "      <td>7.970000e+02</td>\n",
       "      <td>797.000000</td>\n",
       "      <td>797.000000</td>\n",
       "      <td>7.970000e+02</td>\n",
       "    </tr>\n",
       "    <tr>\n",
       "      <th>mean</th>\n",
       "      <td>399.000000</td>\n",
       "      <td>1.0</td>\n",
       "      <td>4.576564e+06</td>\n",
       "      <td>12.680779</td>\n",
       "      <td>9.415934e+06</td>\n",
       "      <td>1.029609e+07</td>\n",
       "      <td>603.203262</td>\n",
       "      <td>0.473007</td>\n",
       "      <td>3.819922e+06</td>\n",
       "    </tr>\n",
       "    <tr>\n",
       "      <th>std</th>\n",
       "      <td>230.218375</td>\n",
       "      <td>0.0</td>\n",
       "      <td>6.701535e+06</td>\n",
       "      <td>1.205863</td>\n",
       "      <td>2.079354e+07</td>\n",
       "      <td>2.192758e+07</td>\n",
       "      <td>289.450330</td>\n",
       "      <td>0.313761</td>\n",
       "      <td>6.381800e+06</td>\n",
       "    </tr>\n",
       "    <tr>\n",
       "      <th>min</th>\n",
       "      <td>1.000000</td>\n",
       "      <td>1.0</td>\n",
       "      <td>5.000000e+05</td>\n",
       "      <td>10.500000</td>\n",
       "      <td>1.010160e+06</td>\n",
       "      <td>1.071998e+06</td>\n",
       "      <td>-1.000000</td>\n",
       "      <td>0.000000</td>\n",
       "      <td>0.000000e+00</td>\n",
       "    </tr>\n",
       "    <tr>\n",
       "      <th>25%</th>\n",
       "      <td>200.000000</td>\n",
       "      <td>1.0</td>\n",
       "      <td>2.000000e+06</td>\n",
       "      <td>11.500000</td>\n",
       "      <td>3.712800e+06</td>\n",
       "      <td>4.014000e+06</td>\n",
       "      <td>682.000000</td>\n",
       "      <td>0.342017</td>\n",
       "      <td>1.500000e+06</td>\n",
       "    </tr>\n",
       "    <tr>\n",
       "      <th>50%</th>\n",
       "      <td>399.000000</td>\n",
       "      <td>1.0</td>\n",
       "      <td>3.000000e+06</td>\n",
       "      <td>12.500000</td>\n",
       "      <td>5.790000e+06</td>\n",
       "      <td>6.420340e+06</td>\n",
       "      <td>737.000000</td>\n",
       "      <td>0.447493</td>\n",
       "      <td>2.400000e+06</td>\n",
       "    </tr>\n",
       "    <tr>\n",
       "      <th>75%</th>\n",
       "      <td>598.000000</td>\n",
       "      <td>1.0</td>\n",
       "      <td>5.000000e+06</td>\n",
       "      <td>14.000000</td>\n",
       "      <td>1.026180e+07</td>\n",
       "      <td>1.139600e+07</td>\n",
       "      <td>763.000000</td>\n",
       "      <td>0.562357</td>\n",
       "      <td>4.300000e+06</td>\n",
       "    </tr>\n",
       "    <tr>\n",
       "      <th>max</th>\n",
       "      <td>797.000000</td>\n",
       "      <td>1.0</td>\n",
       "      <td>1.500000e+08</td>\n",
       "      <td>18.000000</td>\n",
       "      <td>5.264190e+08</td>\n",
       "      <td>5.433373e+08</td>\n",
       "      <td>819.000000</td>\n",
       "      <td>3.482587</td>\n",
       "      <td>1.500000e+08</td>\n",
       "    </tr>\n",
       "  </tbody>\n",
       "</table>\n",
       "</div>"
      ],
      "text/plain": [
       "           Serial  PRODUCT        AMOUNT         ROI        LOWEST  \\\n",
       "count  797.000000    797.0  7.970000e+02  796.000000  7.970000e+02   \n",
       "mean   399.000000      1.0  4.576564e+06   12.680779  9.415934e+06   \n",
       "std    230.218375      0.0  6.701535e+06    1.205863  2.079354e+07   \n",
       "min      1.000000      1.0  5.000000e+05   10.500000  1.010160e+06   \n",
       "25%    200.000000      1.0  2.000000e+06   11.500000  3.712800e+06   \n",
       "50%    399.000000      1.0  3.000000e+06   12.500000  5.790000e+06   \n",
       "75%    598.000000      1.0  5.000000e+06   14.000000  1.026180e+07   \n",
       "max    797.000000      1.0  1.500000e+08   18.000000  5.264190e+08   \n",
       "\n",
       "            HIGHEST       SCORE         LTV          PRED  \n",
       "count  7.970000e+02  797.000000  797.000000  7.970000e+02  \n",
       "mean   1.029609e+07  603.203262    0.473007  3.819922e+06  \n",
       "std    2.192758e+07  289.450330    0.313761  6.381800e+06  \n",
       "min    1.071998e+06   -1.000000    0.000000  0.000000e+00  \n",
       "25%    4.014000e+06  682.000000    0.342017  1.500000e+06  \n",
       "50%    6.420340e+06  737.000000    0.447493  2.400000e+06  \n",
       "75%    1.139600e+07  763.000000    0.562357  4.300000e+06  \n",
       "max    5.433373e+08  819.000000    3.482587  1.500000e+08  "
      ]
     },
     "execution_count": 88,
     "metadata": {},
     "output_type": "execute_result"
    }
   ],
   "source": [
    "data.describe()"
   ]
  },
  {
   "cell_type": "code",
   "execution_count": 7,
   "metadata": {},
   "outputs": [
    {
     "data": {
      "text/plain": [
       "Serial     0\n",
       "PRODUCT    0\n",
       "AMOUNT     0\n",
       "TYPE       0\n",
       "ROI        1\n",
       "CHAN       0\n",
       "LOWEST     0\n",
       "HIGHEST    0\n",
       "SCORE      0\n",
       "LTV        0\n",
       "PRED       0\n",
       "dtype: int64"
      ]
     },
     "execution_count": 7,
     "metadata": {},
     "output_type": "execute_result"
    }
   ],
   "source": [
    "data.isnull().sum()"
   ]
  },
  {
   "cell_type": "code",
   "execution_count": 8,
   "metadata": {},
   "outputs": [],
   "source": [
    "x=data.drop(['Serial','PRED'],axis=1)"
   ]
  },
  {
   "cell_type": "code",
   "execution_count": 9,
   "metadata": {},
   "outputs": [],
   "source": [
    "y=data[['PRED']]"
   ]
  },
  {
   "cell_type": "code",
   "execution_count": 10,
   "metadata": {},
   "outputs": [
    {
     "data": {
      "text/html": [
       "<div>\n",
       "<style scoped>\n",
       "    .dataframe tbody tr th:only-of-type {\n",
       "        vertical-align: middle;\n",
       "    }\n",
       "\n",
       "    .dataframe tbody tr th {\n",
       "        vertical-align: top;\n",
       "    }\n",
       "\n",
       "    .dataframe thead th {\n",
       "        text-align: right;\n",
       "    }\n",
       "</style>\n",
       "<table border=\"1\" class=\"dataframe\">\n",
       "  <thead>\n",
       "    <tr style=\"text-align: right;\">\n",
       "      <th></th>\n",
       "      <th>PRODUCT</th>\n",
       "      <th>AMOUNT</th>\n",
       "      <th>TYPE</th>\n",
       "      <th>ROI</th>\n",
       "      <th>CHAN</th>\n",
       "      <th>LOWEST</th>\n",
       "      <th>HIGHEST</th>\n",
       "      <th>SCORE</th>\n",
       "      <th>LTV</th>\n",
       "    </tr>\n",
       "  </thead>\n",
       "  <tbody>\n",
       "    <tr>\n",
       "      <th>0</th>\n",
       "      <td>1</td>\n",
       "      <td>1600000</td>\n",
       "      <td>F</td>\n",
       "      <td>14.0</td>\n",
       "      <td>C</td>\n",
       "      <td>3741600.0</td>\n",
       "      <td>3951900.00</td>\n",
       "      <td>699</td>\n",
       "      <td>0.427625</td>\n",
       "    </tr>\n",
       "    <tr>\n",
       "      <th>1</th>\n",
       "      <td>1</td>\n",
       "      <td>1600000</td>\n",
       "      <td>F</td>\n",
       "      <td>14.0</td>\n",
       "      <td>C</td>\n",
       "      <td>9836182.8</td>\n",
       "      <td>10012000.49</td>\n",
       "      <td>739</td>\n",
       "      <td>0.162665</td>\n",
       "    </tr>\n",
       "    <tr>\n",
       "      <th>2</th>\n",
       "      <td>1</td>\n",
       "      <td>5000000</td>\n",
       "      <td>F</td>\n",
       "      <td>12.0</td>\n",
       "      <td>A</td>\n",
       "      <td>19327000.0</td>\n",
       "      <td>20113500.00</td>\n",
       "      <td>755</td>\n",
       "      <td>0.258705</td>\n",
       "    </tr>\n",
       "    <tr>\n",
       "      <th>3</th>\n",
       "      <td>1</td>\n",
       "      <td>2200000</td>\n",
       "      <td>B</td>\n",
       "      <td>12.0</td>\n",
       "      <td>T</td>\n",
       "      <td>3669600.0</td>\n",
       "      <td>3845600.00</td>\n",
       "      <td>721</td>\n",
       "      <td>0.599520</td>\n",
       "    </tr>\n",
       "    <tr>\n",
       "      <th>4</th>\n",
       "      <td>1</td>\n",
       "      <td>2950000</td>\n",
       "      <td>F</td>\n",
       "      <td>11.0</td>\n",
       "      <td>A</td>\n",
       "      <td>5900000.0</td>\n",
       "      <td>6160000.00</td>\n",
       "      <td>0</td>\n",
       "      <td>0.500000</td>\n",
       "    </tr>\n",
       "  </tbody>\n",
       "</table>\n",
       "</div>"
      ],
      "text/plain": [
       "   PRODUCT   AMOUNT TYPE   ROI CHAN      LOWEST      HIGHEST  SCORE       LTV\n",
       "0        1  1600000    F  14.0    C   3741600.0   3951900.00    699  0.427625\n",
       "1        1  1600000    F  14.0    C   9836182.8  10012000.49    739  0.162665\n",
       "2        1  5000000    F  12.0    A  19327000.0  20113500.00    755  0.258705\n",
       "3        1  2200000    B  12.0    T   3669600.0   3845600.00    721  0.599520\n",
       "4        1  2950000    F  11.0    A   5900000.0   6160000.00      0  0.500000"
      ]
     },
     "execution_count": 10,
     "metadata": {},
     "output_type": "execute_result"
    }
   ],
   "source": [
    "x.head()"
   ]
  },
  {
   "cell_type": "code",
   "execution_count": 11,
   "metadata": {},
   "outputs": [
    {
     "data": {
      "text/plain": [
       "Index(['PRODUCT', 'AMOUNT', 'ROI', 'LOWEST', 'HIGHEST', 'SCORE', 'LTV'], dtype='object')"
      ]
     },
     "execution_count": 11,
     "metadata": {},
     "output_type": "execute_result"
    }
   ],
   "source": [
    "#Numeric/Continuous Variable\n",
    "x.describe().columns"
   ]
  },
  {
   "cell_type": "code",
   "execution_count": 12,
   "metadata": {},
   "outputs": [
    {
     "data": {
      "text/plain": [
       "Index(['TYPE', 'CHAN'], dtype='object')"
      ]
     },
     "execution_count": 12,
     "metadata": {},
     "output_type": "execute_result"
    }
   ],
   "source": [
    "#Categorical Variable \n",
    "x.describe(include='object').columns"
   ]
  },
  {
   "cell_type": "code",
   "execution_count": 13,
   "metadata": {},
   "outputs": [],
   "source": [
    "cont=x.describe().columns\n",
    "cat=x.describe(include='object').columns"
   ]
  },
  {
   "cell_type": "code",
   "execution_count": 14,
   "metadata": {},
   "outputs": [],
   "source": [
    "#Handling of Categorical Variable\n",
    "x=pd.get_dummies(x)"
   ]
  },
  {
   "cell_type": "code",
   "execution_count": 15,
   "metadata": {},
   "outputs": [
    {
     "data": {
      "text/html": [
       "<div>\n",
       "<style scoped>\n",
       "    .dataframe tbody tr th:only-of-type {\n",
       "        vertical-align: middle;\n",
       "    }\n",
       "\n",
       "    .dataframe tbody tr th {\n",
       "        vertical-align: top;\n",
       "    }\n",
       "\n",
       "    .dataframe thead th {\n",
       "        text-align: right;\n",
       "    }\n",
       "</style>\n",
       "<table border=\"1\" class=\"dataframe\">\n",
       "  <thead>\n",
       "    <tr style=\"text-align: right;\">\n",
       "      <th></th>\n",
       "      <th>PRODUCT</th>\n",
       "      <th>AMOUNT</th>\n",
       "      <th>ROI</th>\n",
       "      <th>LOWEST</th>\n",
       "      <th>HIGHEST</th>\n",
       "      <th>SCORE</th>\n",
       "      <th>LTV</th>\n",
       "      <th>TYPE_B</th>\n",
       "      <th>TYPE_E</th>\n",
       "      <th>TYPE_F</th>\n",
       "      <th>TYPE_R</th>\n",
       "      <th>CHAN_A</th>\n",
       "      <th>CHAN_C</th>\n",
       "      <th>CHAN_D</th>\n",
       "      <th>CHAN_T</th>\n",
       "    </tr>\n",
       "  </thead>\n",
       "  <tbody>\n",
       "    <tr>\n",
       "      <th>0</th>\n",
       "      <td>1</td>\n",
       "      <td>1600000</td>\n",
       "      <td>14.0</td>\n",
       "      <td>3741600.0</td>\n",
       "      <td>3951900.00</td>\n",
       "      <td>699</td>\n",
       "      <td>0.427625</td>\n",
       "      <td>0</td>\n",
       "      <td>0</td>\n",
       "      <td>1</td>\n",
       "      <td>0</td>\n",
       "      <td>0</td>\n",
       "      <td>1</td>\n",
       "      <td>0</td>\n",
       "      <td>0</td>\n",
       "    </tr>\n",
       "    <tr>\n",
       "      <th>1</th>\n",
       "      <td>1</td>\n",
       "      <td>1600000</td>\n",
       "      <td>14.0</td>\n",
       "      <td>9836182.8</td>\n",
       "      <td>10012000.49</td>\n",
       "      <td>739</td>\n",
       "      <td>0.162665</td>\n",
       "      <td>0</td>\n",
       "      <td>0</td>\n",
       "      <td>1</td>\n",
       "      <td>0</td>\n",
       "      <td>0</td>\n",
       "      <td>1</td>\n",
       "      <td>0</td>\n",
       "      <td>0</td>\n",
       "    </tr>\n",
       "    <tr>\n",
       "      <th>2</th>\n",
       "      <td>1</td>\n",
       "      <td>5000000</td>\n",
       "      <td>12.0</td>\n",
       "      <td>19327000.0</td>\n",
       "      <td>20113500.00</td>\n",
       "      <td>755</td>\n",
       "      <td>0.258705</td>\n",
       "      <td>0</td>\n",
       "      <td>0</td>\n",
       "      <td>1</td>\n",
       "      <td>0</td>\n",
       "      <td>1</td>\n",
       "      <td>0</td>\n",
       "      <td>0</td>\n",
       "      <td>0</td>\n",
       "    </tr>\n",
       "    <tr>\n",
       "      <th>3</th>\n",
       "      <td>1</td>\n",
       "      <td>2200000</td>\n",
       "      <td>12.0</td>\n",
       "      <td>3669600.0</td>\n",
       "      <td>3845600.00</td>\n",
       "      <td>721</td>\n",
       "      <td>0.599520</td>\n",
       "      <td>1</td>\n",
       "      <td>0</td>\n",
       "      <td>0</td>\n",
       "      <td>0</td>\n",
       "      <td>0</td>\n",
       "      <td>0</td>\n",
       "      <td>0</td>\n",
       "      <td>1</td>\n",
       "    </tr>\n",
       "    <tr>\n",
       "      <th>4</th>\n",
       "      <td>1</td>\n",
       "      <td>2950000</td>\n",
       "      <td>11.0</td>\n",
       "      <td>5900000.0</td>\n",
       "      <td>6160000.00</td>\n",
       "      <td>0</td>\n",
       "      <td>0.500000</td>\n",
       "      <td>0</td>\n",
       "      <td>0</td>\n",
       "      <td>1</td>\n",
       "      <td>0</td>\n",
       "      <td>1</td>\n",
       "      <td>0</td>\n",
       "      <td>0</td>\n",
       "      <td>0</td>\n",
       "    </tr>\n",
       "  </tbody>\n",
       "</table>\n",
       "</div>"
      ],
      "text/plain": [
       "   PRODUCT   AMOUNT   ROI      LOWEST      HIGHEST  SCORE       LTV  TYPE_B  \\\n",
       "0        1  1600000  14.0   3741600.0   3951900.00    699  0.427625       0   \n",
       "1        1  1600000  14.0   9836182.8  10012000.49    739  0.162665       0   \n",
       "2        1  5000000  12.0  19327000.0  20113500.00    755  0.258705       0   \n",
       "3        1  2200000  12.0   3669600.0   3845600.00    721  0.599520       1   \n",
       "4        1  2950000  11.0   5900000.0   6160000.00      0  0.500000       0   \n",
       "\n",
       "   TYPE_E  TYPE_F  TYPE_R  CHAN_A  CHAN_C  CHAN_D  CHAN_T  \n",
       "0       0       1       0       0       1       0       0  \n",
       "1       0       1       0       0       1       0       0  \n",
       "2       0       1       0       1       0       0       0  \n",
       "3       0       0       0       0       0       0       1  \n",
       "4       0       1       0       1       0       0       0  "
      ]
     },
     "execution_count": 15,
     "metadata": {},
     "output_type": "execute_result"
    }
   ],
   "source": [
    "x.head()"
   ]
  },
  {
   "cell_type": "code",
   "execution_count": 16,
   "metadata": {},
   "outputs": [],
   "source": [
    "#Handling of Missing values\n",
    "x=x.fillna(14)"
   ]
  },
  {
   "cell_type": "code",
   "execution_count": 17,
   "metadata": {},
   "outputs": [
    {
     "data": {
      "text/plain": [
       "(PRODUCT    0\n",
       " AMOUNT     0\n",
       " ROI        0\n",
       " LOWEST     0\n",
       " HIGHEST    0\n",
       " SCORE      0\n",
       " LTV        0\n",
       " TYPE_B     0\n",
       " TYPE_E     0\n",
       " TYPE_F     0\n",
       " TYPE_R     0\n",
       " CHAN_A     0\n",
       " CHAN_C     0\n",
       " CHAN_D     0\n",
       " CHAN_T     0\n",
       " dtype: int64, PRED    0\n",
       " dtype: int64)"
      ]
     },
     "execution_count": 17,
     "metadata": {},
     "output_type": "execute_result"
    }
   ],
   "source": [
    "x.isnull().sum(),y.isnull().sum()"
   ]
  },
  {
   "cell_type": "code",
   "execution_count": 79,
   "metadata": {},
   "outputs": [
    {
     "name": "stderr",
     "output_type": "stream",
     "text": [
      "C:\\ProgramData\\Anaconda3\\lib\\site-packages\\matplotlib\\axes\\_axes.py:6462: UserWarning: The 'normed' kwarg is deprecated, and has been replaced by the 'density' kwarg.\n",
      "  warnings.warn(\"The 'normed' kwarg is deprecated, and has been \"\n"
     ]
    },
    {
     "data": {
      "text/plain": [
       "<matplotlib.axes._subplots.AxesSubplot at 0x28776f5ada0>"
      ]
     },
     "execution_count": 79,
     "metadata": {},
     "output_type": "execute_result"
    },
    {
     "data": {
      "image/png": "[encoded data removed]",
      "text/plain": [
       "<Figure size 1440x360 with 1 Axes>"
      ]
     },
     "metadata": {},
     "output_type": "display_data"
    }
   ],
   "source": [
    "plt.figure(figsize=(20,5))\n",
    "sns.distplot(x['AMOUNT'])"
   ]
  },
  {
   "cell_type": "code",
   "execution_count": 86,
   "metadata": {},
   "outputs": [
    {
     "data": {
      "text/plain": [
       "<matplotlib.collections.PathCollection at 0x28775a38eb8>"
      ]
     },
     "execution_count": 86,
     "metadata": {},
     "output_type": "execute_result"
    },
    {
     "data": {
      "image/png": "[encoded data removed]",
      "text/plain": [
       "<Figure size 1440x360 with 1 Axes>"
      ]
     },
     "metadata": {},
     "output_type": "display_data"
    }
   ],
   "source": [
    "plt.figure(figsize=(20,5))\n",
    "plt.scatter(data['LOWEST'],data['PRED'])"
   ]
  },
  {
   "cell_type": "code",
   "execution_count": 18,
   "metadata": {},
   "outputs": [
    {
     "data": {
      "text/plain": [
       "<matplotlib.axes._subplots.AxesSubplot at 0x287728cd390>"
      ]
     },
     "execution_count": 18,
     "metadata": {},
     "output_type": "execute_result"
    },
    {
     "data": {
      "image/png": "[encoded data removed]",
      "text/plain": [
       "<Figure size 1440x360 with 1 Axes>"
      ]
     },
     "metadata": {},
     "output_type": "display_data"
    }
   ],
   "source": [
    "#Checking Outliers in Cont. variable using Box plot\n",
    "plt.figure(figsize=(20,5))\n",
    "sns.boxplot(x['AMOUNT'])"
   ]
  },
  {
   "cell_type": "code",
   "execution_count": 19,
   "metadata": {},
   "outputs": [
    {
     "data": {
      "text/plain": [
       "<matplotlib.axes._subplots.AxesSubplot at 0x28772e076d8>"
      ]
     },
     "execution_count": 19,
     "metadata": {},
     "output_type": "execute_result"
    },
    {
     "data": {
      "image/png": "[encoded data removed]",
      "text/plain": [
       "<Figure size 1440x360 with 1 Axes>"
      ]
     },
     "metadata": {},
     "output_type": "display_data"
    }
   ],
   "source": [
    "plt.figure(figsize=(20,5))\n",
    "sns.boxplot(x['LOWEST'])"
   ]
  },
  {
   "cell_type": "code",
   "execution_count": 20,
   "metadata": {},
   "outputs": [
    {
     "data": {
      "text/plain": [
       "<matplotlib.axes._subplots.AxesSubplot at 0x28772beba90>"
      ]
     },
     "execution_count": 20,
     "metadata": {},
     "output_type": "execute_result"
    },
    {
     "data": {
      "image/png": "[encoded data removed]",
      "text/plain": [
       "<Figure size 1440x360 with 1 Axes>"
      ]
     },
     "metadata": {},
     "output_type": "display_data"
    }
   ],
   "source": [
    "plt.figure(figsize=(20,5))\n",
    "sns.boxplot(x['HIGHEST'])"
   ]
  },
  {
   "cell_type": "code",
   "execution_count": 115,
   "metadata": {},
   "outputs": [
    {
     "data": {
      "text/html": [
       "<div>\n",
       "<style scoped>\n",
       "    .dataframe tbody tr th:only-of-type {\n",
       "        vertical-align: middle;\n",
       "    }\n",
       "\n",
       "    .dataframe tbody tr th {\n",
       "        vertical-align: top;\n",
       "    }\n",
       "\n",
       "    .dataframe thead th {\n",
       "        text-align: right;\n",
       "    }\n",
       "</style>\n",
       "<table border=\"1\" class=\"dataframe\">\n",
       "  <thead>\n",
       "    <tr style=\"text-align: right;\">\n",
       "      <th></th>\n",
       "      <th>AMOUNT</th>\n",
       "      <th>ROI</th>\n",
       "      <th>LOWEST</th>\n",
       "      <th>HIGHEST</th>\n",
       "      <th>SCORE</th>\n",
       "      <th>LTV</th>\n",
       "      <th>PRED</th>\n",
       "    </tr>\n",
       "  </thead>\n",
       "  <tbody>\n",
       "    <tr>\n",
       "      <th>AMOUNT</th>\n",
       "      <td>1.000000</td>\n",
       "      <td>-0.345318</td>\n",
       "      <td>0.897025</td>\n",
       "      <td>0.897616</td>\n",
       "      <td>-0.063272</td>\n",
       "      <td>0.123568</td>\n",
       "      <td>0.973017</td>\n",
       "    </tr>\n",
       "    <tr>\n",
       "      <th>ROI</th>\n",
       "      <td>-0.345318</td>\n",
       "      <td>1.000000</td>\n",
       "      <td>-0.196915</td>\n",
       "      <td>-0.206628</td>\n",
       "      <td>-0.001688</td>\n",
       "      <td>-0.241538</td>\n",
       "      <td>-0.316562</td>\n",
       "    </tr>\n",
       "    <tr>\n",
       "      <th>LOWEST</th>\n",
       "      <td>0.897025</td>\n",
       "      <td>-0.196915</td>\n",
       "      <td>1.000000</td>\n",
       "      <td>0.994020</td>\n",
       "      <td>-0.091617</td>\n",
       "      <td>-0.097281</td>\n",
       "      <td>0.918338</td>\n",
       "    </tr>\n",
       "    <tr>\n",
       "      <th>HIGHEST</th>\n",
       "      <td>0.897616</td>\n",
       "      <td>-0.206628</td>\n",
       "      <td>0.994020</td>\n",
       "      <td>1.000000</td>\n",
       "      <td>-0.094982</td>\n",
       "      <td>-0.065954</td>\n",
       "      <td>0.916914</td>\n",
       "    </tr>\n",
       "    <tr>\n",
       "      <th>SCORE</th>\n",
       "      <td>-0.063272</td>\n",
       "      <td>-0.001688</td>\n",
       "      <td>-0.091617</td>\n",
       "      <td>-0.094982</td>\n",
       "      <td>1.000000</td>\n",
       "      <td>0.038636</td>\n",
       "      <td>-0.069194</td>\n",
       "    </tr>\n",
       "    <tr>\n",
       "      <th>LTV</th>\n",
       "      <td>0.123568</td>\n",
       "      <td>-0.241538</td>\n",
       "      <td>-0.097281</td>\n",
       "      <td>-0.065954</td>\n",
       "      <td>0.038636</td>\n",
       "      <td>1.000000</td>\n",
       "      <td>0.132223</td>\n",
       "    </tr>\n",
       "    <tr>\n",
       "      <th>PRED</th>\n",
       "      <td>0.973017</td>\n",
       "      <td>-0.316562</td>\n",
       "      <td>0.918338</td>\n",
       "      <td>0.916914</td>\n",
       "      <td>-0.069194</td>\n",
       "      <td>0.132223</td>\n",
       "      <td>1.000000</td>\n",
       "    </tr>\n",
       "  </tbody>\n",
       "</table>\n",
       "</div>"
      ],
      "text/plain": [
       "           AMOUNT       ROI    LOWEST   HIGHEST     SCORE       LTV      PRED\n",
       "AMOUNT   1.000000 -0.345318  0.897025  0.897616 -0.063272  0.123568  0.973017\n",
       "ROI     -0.345318  1.000000 -0.196915 -0.206628 -0.001688 -0.241538 -0.316562\n",
       "LOWEST   0.897025 -0.196915  1.000000  0.994020 -0.091617 -0.097281  0.918338\n",
       "HIGHEST  0.897616 -0.206628  0.994020  1.000000 -0.094982 -0.065954  0.916914\n",
       "SCORE   -0.063272 -0.001688 -0.091617 -0.094982  1.000000  0.038636 -0.069194\n",
       "LTV      0.123568 -0.241538 -0.097281 -0.065954  0.038636  1.000000  0.132223\n",
       "PRED     0.973017 -0.316562  0.918338  0.916914 -0.069194  0.132223  1.000000"
      ]
     },
     "execution_count": 115,
     "metadata": {},
     "output_type": "execute_result"
    }
   ],
   "source": [
    "data.drop(['Serial','PRODUCT'],axis=1).corr()"
   ]
  },
  {
   "cell_type": "code",
   "execution_count": 22,
   "metadata": {},
   "outputs": [],
   "source": [
    "#Variable Transformation \n",
    "#Here we are using Robust scaler because outlier available\n",
    "from sklearn.preprocessing import RobustScaler\n",
    "x_scaled=RobustScaler()\n",
    "x_scaled.fit(x)\n",
    "x_scaled=x_scaled.transform(x)"
   ]
  },
  {
   "cell_type": "code",
   "execution_count": 23,
   "metadata": {},
   "outputs": [
    {
     "data": {
      "text/plain": [
       "array([[ 0.        , -0.46666667,  0.6       , ...,  1.        ,\n",
       "         0.        ,  0.        ],\n",
       "       [ 0.        , -0.46666667,  0.6       , ...,  1.        ,\n",
       "         0.        ,  0.        ],\n",
       "       [ 0.        ,  0.66666667, -0.2       , ...,  0.        ,\n",
       "         0.        ,  0.        ],\n",
       "       ...,\n",
       "       [ 0.        , -0.2       ,  0.02      , ...,  0.        ,\n",
       "         0.        ,  0.        ],\n",
       "       [ 0.        , -0.16666667, -0.6       , ...,  0.        ,\n",
       "         0.        ,  0.        ],\n",
       "       [ 0.        ,  0.5       , -0.2       , ...,  1.        ,\n",
       "         0.        ,  0.        ]])"
      ]
     },
     "execution_count": 23,
     "metadata": {},
     "output_type": "execute_result"
    }
   ],
   "source": [
    "x_scaled"
   ]
  },
  {
   "cell_type": "code",
   "execution_count": 24,
   "metadata": {},
   "outputs": [],
   "source": [
    "from sklearn.model_selection import train_test_split"
   ]
  },
  {
   "cell_type": "code",
   "execution_count": 60,
   "metadata": {},
   "outputs": [],
   "source": [
    "x_train,x_test,y_train,y_test=train_test_split(x_scaled,y,test_size=0.2,random_state=12)"
   ]
  },
  {
   "cell_type": "code",
   "execution_count": 61,
   "metadata": {},
   "outputs": [
    {
     "data": {
      "text/plain": [
       "((637, 15), (637, 1))"
      ]
     },
     "execution_count": 61,
     "metadata": {},
     "output_type": "execute_result"
    }
   ],
   "source": [
    "x_train.shape,y_train.shape"
   ]
  },
  {
   "cell_type": "code",
   "execution_count": 63,
   "metadata": {},
   "outputs": [
    {
     "data": {
      "text/plain": [
       "LinearRegression(copy_X=True, fit_intercept=True, n_jobs=1, normalize=False)"
      ]
     },
     "execution_count": 63,
     "metadata": {},
     "output_type": "execute_result"
    }
   ],
   "source": [
    "model=LinearRegression()\n",
    "model.fit(x_train,y_train)"
   ]
  },
  {
   "cell_type": "code",
   "execution_count": 64,
   "metadata": {},
   "outputs": [],
   "source": [
    "y_pred=model.predict(x_test)"
   ]
  },
  {
   "cell_type": "code",
   "execution_count": 65,
   "metadata": {},
   "outputs": [
    {
     "data": {
      "text/plain": [
       "0.901569632726137"
      ]
     },
     "execution_count": 65,
     "metadata": {},
     "output_type": "execute_result"
    }
   ],
   "source": [
    "model.score(x_test,y_test)"
   ]
  },
  {
   "cell_type": "code",
   "execution_count": 66,
   "metadata": {},
   "outputs": [
    {
     "data": {
      "text/html": [
       "<div>\n",
       "<style scoped>\n",
       "    .dataframe tbody tr th:only-of-type {\n",
       "        vertical-align: middle;\n",
       "    }\n",
       "\n",
       "    .dataframe tbody tr th {\n",
       "        vertical-align: top;\n",
       "    }\n",
       "\n",
       "    .dataframe thead th {\n",
       "        text-align: right;\n",
       "    }\n",
       "</style>\n",
       "<table border=\"1\" class=\"dataframe\">\n",
       "  <thead>\n",
       "    <tr style=\"text-align: right;\">\n",
       "      <th></th>\n",
       "      <th>0</th>\n",
       "    </tr>\n",
       "  </thead>\n",
       "  <tbody>\n",
       "    <tr>\n",
       "      <th>0</th>\n",
       "      <td>980000.0</td>\n",
       "    </tr>\n",
       "    <tr>\n",
       "      <th>1</th>\n",
       "      <td>3520000.0</td>\n",
       "    </tr>\n",
       "    <tr>\n",
       "      <th>2</th>\n",
       "      <td>1990000.0</td>\n",
       "    </tr>\n",
       "    <tr>\n",
       "      <th>3</th>\n",
       "      <td>7590000.0</td>\n",
       "    </tr>\n",
       "    <tr>\n",
       "      <th>4</th>\n",
       "      <td>3290000.0</td>\n",
       "    </tr>\n",
       "    <tr>\n",
       "      <th>5</th>\n",
       "      <td>3100000.0</td>\n",
       "    </tr>\n",
       "    <tr>\n",
       "      <th>6</th>\n",
       "      <td>2070000.0</td>\n",
       "    </tr>\n",
       "    <tr>\n",
       "      <th>7</th>\n",
       "      <td>1480000.0</td>\n",
       "    </tr>\n",
       "    <tr>\n",
       "      <th>8</th>\n",
       "      <td>2060000.0</td>\n",
       "    </tr>\n",
       "    <tr>\n",
       "      <th>9</th>\n",
       "      <td>4990000.0</td>\n",
       "    </tr>\n",
       "    <tr>\n",
       "      <th>10</th>\n",
       "      <td>5040000.0</td>\n",
       "    </tr>\n",
       "    <tr>\n",
       "      <th>11</th>\n",
       "      <td>1230000.0</td>\n",
       "    </tr>\n",
       "    <tr>\n",
       "      <th>12</th>\n",
       "      <td>2380000.0</td>\n",
       "    </tr>\n",
       "    <tr>\n",
       "      <th>13</th>\n",
       "      <td>1460000.0</td>\n",
       "    </tr>\n",
       "    <tr>\n",
       "      <th>14</th>\n",
       "      <td>3030000.0</td>\n",
       "    </tr>\n",
       "    <tr>\n",
       "      <th>15</th>\n",
       "      <td>1530000.0</td>\n",
       "    </tr>\n",
       "    <tr>\n",
       "      <th>16</th>\n",
       "      <td>1420000.0</td>\n",
       "    </tr>\n",
       "    <tr>\n",
       "      <th>17</th>\n",
       "      <td>1830000.0</td>\n",
       "    </tr>\n",
       "    <tr>\n",
       "      <th>18</th>\n",
       "      <td>3210000.0</td>\n",
       "    </tr>\n",
       "    <tr>\n",
       "      <th>19</th>\n",
       "      <td>3730000.0</td>\n",
       "    </tr>\n",
       "    <tr>\n",
       "      <th>20</th>\n",
       "      <td>1040000.0</td>\n",
       "    </tr>\n",
       "    <tr>\n",
       "      <th>21</th>\n",
       "      <td>3850000.0</td>\n",
       "    </tr>\n",
       "    <tr>\n",
       "      <th>22</th>\n",
       "      <td>1580000.0</td>\n",
       "    </tr>\n",
       "    <tr>\n",
       "      <th>23</th>\n",
       "      <td>1920000.0</td>\n",
       "    </tr>\n",
       "    <tr>\n",
       "      <th>24</th>\n",
       "      <td>4060000.0</td>\n",
       "    </tr>\n",
       "    <tr>\n",
       "      <th>25</th>\n",
       "      <td>3920000.0</td>\n",
       "    </tr>\n",
       "    <tr>\n",
       "      <th>26</th>\n",
       "      <td>1200000.0</td>\n",
       "    </tr>\n",
       "    <tr>\n",
       "      <th>27</th>\n",
       "      <td>980000.0</td>\n",
       "    </tr>\n",
       "    <tr>\n",
       "      <th>28</th>\n",
       "      <td>4190000.0</td>\n",
       "    </tr>\n",
       "    <tr>\n",
       "      <th>29</th>\n",
       "      <td>1720000.0</td>\n",
       "    </tr>\n",
       "    <tr>\n",
       "      <th>...</th>\n",
       "      <td>...</td>\n",
       "    </tr>\n",
       "    <tr>\n",
       "      <th>130</th>\n",
       "      <td>630000.0</td>\n",
       "    </tr>\n",
       "    <tr>\n",
       "      <th>131</th>\n",
       "      <td>3520000.0</td>\n",
       "    </tr>\n",
       "    <tr>\n",
       "      <th>132</th>\n",
       "      <td>930000.0</td>\n",
       "    </tr>\n",
       "    <tr>\n",
       "      <th>133</th>\n",
       "      <td>4250000.0</td>\n",
       "    </tr>\n",
       "    <tr>\n",
       "      <th>134</th>\n",
       "      <td>4560000.0</td>\n",
       "    </tr>\n",
       "    <tr>\n",
       "      <th>135</th>\n",
       "      <td>3110000.0</td>\n",
       "    </tr>\n",
       "    <tr>\n",
       "      <th>136</th>\n",
       "      <td>2980000.0</td>\n",
       "    </tr>\n",
       "    <tr>\n",
       "      <th>137</th>\n",
       "      <td>2490000.0</td>\n",
       "    </tr>\n",
       "    <tr>\n",
       "      <th>138</th>\n",
       "      <td>14110000.0</td>\n",
       "    </tr>\n",
       "    <tr>\n",
       "      <th>139</th>\n",
       "      <td>1920000.0</td>\n",
       "    </tr>\n",
       "    <tr>\n",
       "      <th>140</th>\n",
       "      <td>620000.0</td>\n",
       "    </tr>\n",
       "    <tr>\n",
       "      <th>141</th>\n",
       "      <td>1700000.0</td>\n",
       "    </tr>\n",
       "    <tr>\n",
       "      <th>142</th>\n",
       "      <td>750000.0</td>\n",
       "    </tr>\n",
       "    <tr>\n",
       "      <th>143</th>\n",
       "      <td>2350000.0</td>\n",
       "    </tr>\n",
       "    <tr>\n",
       "      <th>144</th>\n",
       "      <td>7540000.0</td>\n",
       "    </tr>\n",
       "    <tr>\n",
       "      <th>145</th>\n",
       "      <td>3810000.0</td>\n",
       "    </tr>\n",
       "    <tr>\n",
       "      <th>146</th>\n",
       "      <td>5870000.0</td>\n",
       "    </tr>\n",
       "    <tr>\n",
       "      <th>147</th>\n",
       "      <td>9070000.0</td>\n",
       "    </tr>\n",
       "    <tr>\n",
       "      <th>148</th>\n",
       "      <td>5300000.0</td>\n",
       "    </tr>\n",
       "    <tr>\n",
       "      <th>149</th>\n",
       "      <td>16610000.0</td>\n",
       "    </tr>\n",
       "    <tr>\n",
       "      <th>150</th>\n",
       "      <td>1150000.0</td>\n",
       "    </tr>\n",
       "    <tr>\n",
       "      <th>151</th>\n",
       "      <td>5310000.0</td>\n",
       "    </tr>\n",
       "    <tr>\n",
       "      <th>152</th>\n",
       "      <td>2750000.0</td>\n",
       "    </tr>\n",
       "    <tr>\n",
       "      <th>153</th>\n",
       "      <td>4070000.0</td>\n",
       "    </tr>\n",
       "    <tr>\n",
       "      <th>154</th>\n",
       "      <td>1080000.0</td>\n",
       "    </tr>\n",
       "    <tr>\n",
       "      <th>155</th>\n",
       "      <td>4480000.0</td>\n",
       "    </tr>\n",
       "    <tr>\n",
       "      <th>156</th>\n",
       "      <td>1870000.0</td>\n",
       "    </tr>\n",
       "    <tr>\n",
       "      <th>157</th>\n",
       "      <td>6430000.0</td>\n",
       "    </tr>\n",
       "    <tr>\n",
       "      <th>158</th>\n",
       "      <td>6050000.0</td>\n",
       "    </tr>\n",
       "    <tr>\n",
       "      <th>159</th>\n",
       "      <td>1900000.0</td>\n",
       "    </tr>\n",
       "  </tbody>\n",
       "</table>\n",
       "<p>160 rows × 1 columns</p>\n",
       "</div>"
      ],
      "text/plain": [
       "              0\n",
       "0      980000.0\n",
       "1     3520000.0\n",
       "2     1990000.0\n",
       "3     7590000.0\n",
       "4     3290000.0\n",
       "5     3100000.0\n",
       "6     2070000.0\n",
       "7     1480000.0\n",
       "8     2060000.0\n",
       "9     4990000.0\n",
       "10    5040000.0\n",
       "11    1230000.0\n",
       "12    2380000.0\n",
       "13    1460000.0\n",
       "14    3030000.0\n",
       "15    1530000.0\n",
       "16    1420000.0\n",
       "17    1830000.0\n",
       "18    3210000.0\n",
       "19    3730000.0\n",
       "20    1040000.0\n",
       "21    3850000.0\n",
       "22    1580000.0\n",
       "23    1920000.0\n",
       "24    4060000.0\n",
       "25    3920000.0\n",
       "26    1200000.0\n",
       "27     980000.0\n",
       "28    4190000.0\n",
       "29    1720000.0\n",
       "..          ...\n",
       "130    630000.0\n",
       "131   3520000.0\n",
       "132    930000.0\n",
       "133   4250000.0\n",
       "134   4560000.0\n",
       "135   3110000.0\n",
       "136   2980000.0\n",
       "137   2490000.0\n",
       "138  14110000.0\n",
       "139   1920000.0\n",
       "140    620000.0\n",
       "141   1700000.0\n",
       "142    750000.0\n",
       "143   2350000.0\n",
       "144   7540000.0\n",
       "145   3810000.0\n",
       "146   5870000.0\n",
       "147   9070000.0\n",
       "148   5300000.0\n",
       "149  16610000.0\n",
       "150   1150000.0\n",
       "151   5310000.0\n",
       "152   2750000.0\n",
       "153   4070000.0\n",
       "154   1080000.0\n",
       "155   4480000.0\n",
       "156   1870000.0\n",
       "157   6430000.0\n",
       "158   6050000.0\n",
       "159   1900000.0\n",
       "\n",
       "[160 rows x 1 columns]"
      ]
     },
     "execution_count": 66,
     "metadata": {},
     "output_type": "execute_result"
    }
   ],
   "source": [
    "round(pd.DataFrame(y_pred),-4)"
   ]
  },
  {
   "cell_type": "code",
   "execution_count": 67,
   "metadata": {},
   "outputs": [
    {
     "data": {
      "text/plain": [
       "PRED    8.708621e+11\n",
       "dtype: float64"
      ]
     },
     "execution_count": 67,
     "metadata": {},
     "output_type": "execute_result"
    }
   ],
   "source": [
    "mse = np.mean((model.predict(x_test)-y_test)**2)\n",
    "mse"
   ]
  },
  {
   "cell_type": "code",
   "execution_count": 68,
   "metadata": {},
   "outputs": [
    {
     "data": {
      "text/plain": [
       "PRED    933199.912342\n",
       "dtype: float64"
      ]
     },
     "execution_count": 68,
     "metadata": {},
     "output_type": "execute_result"
    }
   ],
   "source": [
    "rmse = np.sqrt(mse)\n",
    "rmse"
   ]
  },
  {
   "cell_type": "code",
   "execution_count": 69,
   "metadata": {},
   "outputs": [
    {
     "data": {
      "text/plain": [
       "PRED    1.555678e+12\n",
       "dtype: float64"
      ]
     },
     "execution_count": 69,
     "metadata": {},
     "output_type": "execute_result"
    }
   ],
   "source": [
    "#Train MSE Value\n",
    "mse_1 = np.mean((model.predict(x_train)-y_train)**2)\n",
    "mse_1"
   ]
  },
  {
   "cell_type": "code",
   "execution_count": 70,
   "metadata": {},
   "outputs": [
    {
     "data": {
      "text/plain": [
       "PRED    1.247268e+06\n",
       "dtype: float64"
      ]
     },
     "execution_count": 70,
     "metadata": {},
     "output_type": "execute_result"
    }
   ],
   "source": [
    "#Train RSME Value\n",
    "rmse_1= np.sqrt(mse_1)\n",
    "rmse_1"
   ]
  },
  {
   "cell_type": "code",
   "execution_count": null,
   "metadata": {},
   "outputs": [],
   "source": [
    "RMSE of test > RMSE of train => OVER FITTING of the data.\n",
    "RMSE of test < RMSE of train => UNDER FITTING of the data."
   ]
  },
  {
   "cell_type": "code",
   "execution_count": 71,
   "metadata": {},
   "outputs": [
    {
     "data": {
      "text/plain": [
       "0.8852245530742776"
      ]
     },
     "execution_count": 71,
     "metadata": {},
     "output_type": "execute_result"
    }
   ],
   "source": [
    "#Test R2 Score\n",
    "r2_score(y_pred,y_test)"
   ]
  },
  {
   "cell_type": "code",
   "execution_count": 72,
   "metadata": {},
   "outputs": [
    {
     "data": {
      "text/plain": [
       "0.9669346945117426"
      ]
     },
     "execution_count": 72,
     "metadata": {},
     "output_type": "execute_result"
    }
   ],
   "source": [
    "#Train r2 Score\n",
    "r2_score(model.predict(x_train),y_train)"
   ]
  },
  {
   "cell_type": "code",
   "execution_count": 33,
   "metadata": {},
   "outputs": [
    {
     "data": {
      "text/plain": [
       "12"
      ]
     },
     "execution_count": 33,
     "metadata": {},
     "output_type": "execute_result"
    }
   ],
   "source": [
    "model.rank_"
   ]
  },
  {
   "cell_type": "code",
   "execution_count": 34,
   "metadata": {},
   "outputs": [],
   "source": [
    "from sklearn.metrics import mean_squared_error"
   ]
  },
  {
   "cell_type": "code",
   "execution_count": 35,
   "metadata": {},
   "outputs": [
    {
     "data": {
      "text/plain": [
       "870862076394.8982"
      ]
     },
     "execution_count": 35,
     "metadata": {},
     "output_type": "execute_result"
    }
   ],
   "source": [
    "mse=mean_squared_error(y_test,y_pred)\n",
    "mse"
   ]
  },
  {
   "cell_type": "code",
   "execution_count": 36,
   "metadata": {},
   "outputs": [
    {
     "data": {
      "text/plain": [
       "933199.912341883"
      ]
     },
     "execution_count": 36,
     "metadata": {},
     "output_type": "execute_result"
    }
   ],
   "source": [
    "rmse=np.sqrt(mse)\n",
    "rmse"
   ]
  },
  {
   "cell_type": "code",
   "execution_count": 37,
   "metadata": {},
   "outputs": [
    {
     "data": {
      "text/plain": [
       "(       PRED\n",
       " 216  420000,                0\n",
       " 0  983787.120752)"
      ]
     },
     "execution_count": 37,
     "metadata": {},
     "output_type": "execute_result"
    }
   ],
   "source": [
    "y_test.head(1),pd.DataFrame(y_pred[0]).head()"
   ]
  },
  {
   "cell_type": "code",
   "execution_count": 38,
   "metadata": {},
   "outputs": [],
   "source": [
    "import statsmodels.formula.api as smf"
   ]
  },
  {
   "cell_type": "code",
   "execution_count": 39,
   "metadata": {},
   "outputs": [
    {
     "data": {
      "text/html": [
       "<table class=\"simpletable\">\n",
       "<caption>OLS Regression Results</caption>\n",
       "<tr>\n",
       "  <th>Dep. Variable:</th>          <td>PRED</td>       <th>  R-squared:         </th>  <td>   1.000</td> \n",
       "</tr>\n",
       "<tr>\n",
       "  <th>Model:</th>                   <td>OLS</td>       <th>  Adj. R-squared:    </th>  <td>   1.000</td> \n",
       "</tr>\n",
       "<tr>\n",
       "  <th>Method:</th>             <td>Least Squares</td>  <th>  F-statistic:       </th>  <td>1.532e+31</td>\n",
       "</tr>\n",
       "<tr>\n",
       "  <th>Date:</th>             <td>Mon, 03 Aug 2020</td> <th>  Prob (F-statistic):</th>   <td>  0.00</td>  \n",
       "</tr>\n",
       "<tr>\n",
       "  <th>Time:</th>                 <td>23:10:19</td>     <th>  Log-Likelihood:    </th>  <td>  13377.</td> \n",
       "</tr>\n",
       "<tr>\n",
       "  <th>No. Observations:</th>      <td>   796</td>      <th>  AIC:               </th> <td>-2.672e+04</td>\n",
       "</tr>\n",
       "<tr>\n",
       "  <th>Df Residuals:</th>          <td>   781</td>      <th>  BIC:               </th> <td>-2.665e+04</td>\n",
       "</tr>\n",
       "<tr>\n",
       "  <th>Df Model:</th>              <td>    14</td>      <th>                     </th>      <td> </td>    \n",
       "</tr>\n",
       "<tr>\n",
       "  <th>Covariance Type:</th>      <td>nonrobust</td>    <th>                     </th>      <td> </td>    \n",
       "</tr>\n",
       "</table>\n",
       "<table class=\"simpletable\">\n",
       "<tr>\n",
       "      <td></td>         <th>coef</th>     <th>std err</th>      <th>t</th>      <th>P>|t|</th>  <th>[0.025</th>    <th>0.975]</th>  \n",
       "</tr>\n",
       "<tr>\n",
       "  <th>Intercept</th> <td>-6.054e-09</td> <td> 2.83e-09</td> <td>   -2.143</td> <td> 0.032</td> <td>-1.16e-08</td> <td>-5.08e-10</td>\n",
       "</tr>\n",
       "<tr>\n",
       "  <th>TYPE[T.E]</th> <td> 7.916e-09</td> <td> 8.98e-09</td> <td>    0.881</td> <td> 0.378</td> <td>-9.72e-09</td> <td> 2.55e-08</td>\n",
       "</tr>\n",
       "<tr>\n",
       "  <th>TYPE[T.F]</th> <td> 2.037e-10</td> <td> 9.99e-10</td> <td>    0.204</td> <td> 0.838</td> <td>-1.76e-09</td> <td> 2.16e-09</td>\n",
       "</tr>\n",
       "<tr>\n",
       "  <th>TYPE[T.R]</th> <td>-1.863e-09</td> <td> 3.66e-09</td> <td>   -0.509</td> <td> 0.611</td> <td>-9.04e-09</td> <td> 5.32e-09</td>\n",
       "</tr>\n",
       "<tr>\n",
       "  <th>CHAN[T.C]</th> <td>  1.31e-09</td> <td> 9.92e-10</td> <td>    1.320</td> <td> 0.187</td> <td>-6.38e-10</td> <td> 3.26e-09</td>\n",
       "</tr>\n",
       "<tr>\n",
       "  <th>CHAN[T.D]</th> <td>-1.444e-08</td> <td> 6.13e-09</td> <td>   -2.354</td> <td> 0.019</td> <td>-2.65e-08</td> <td> -2.4e-09</td>\n",
       "</tr>\n",
       "<tr>\n",
       "  <th>CHAN[T.T]</th> <td> 3.798e-09</td> <td> 1.83e-09</td> <td>    2.070</td> <td> 0.039</td> <td> 1.97e-10</td> <td>  7.4e-09</td>\n",
       "</tr>\n",
       "<tr>\n",
       "  <th>Serial</th>    <td> 1.393e-12</td> <td> 1.95e-12</td> <td>    0.716</td> <td> 0.474</td> <td>-2.43e-12</td> <td> 5.21e-12</td>\n",
       "</tr>\n",
       "<tr>\n",
       "  <th>PRODUCT</th>   <td>-3.027e-09</td> <td> 2.83e-09</td> <td>   -1.071</td> <td> 0.284</td> <td>-8.57e-09</td> <td> 2.52e-09</td>\n",
       "</tr>\n",
       "<tr>\n",
       "  <th>AMOUNT</th>    <td> 8.882e-16</td> <td> 3.03e-16</td> <td>    2.933</td> <td> 0.003</td> <td> 2.94e-16</td> <td> 1.48e-15</td>\n",
       "</tr>\n",
       "<tr>\n",
       "  <th>ROI</th>       <td> 1.164e-10</td> <td> 4.29e-10</td> <td>    0.271</td> <td> 0.786</td> <td>-7.26e-10</td> <td> 9.59e-10</td>\n",
       "</tr>\n",
       "<tr>\n",
       "  <th>LOWEST</th>    <td> 6.939e-16</td> <td> 2.18e-16</td> <td>    3.177</td> <td> 0.002</td> <td> 2.65e-16</td> <td> 1.12e-15</td>\n",
       "</tr>\n",
       "<tr>\n",
       "  <th>HIGHEST</th>   <td>-1.596e-16</td> <td> 1.92e-16</td> <td>   -0.830</td> <td> 0.407</td> <td>-5.37e-16</td> <td> 2.18e-16</td>\n",
       "</tr>\n",
       "<tr>\n",
       "  <th>SCORE</th>     <td>-1.684e-12</td> <td> 1.54e-12</td> <td>   -1.090</td> <td> 0.276</td> <td>-4.72e-12</td> <td> 1.35e-12</td>\n",
       "</tr>\n",
       "<tr>\n",
       "  <th>LTV</th>       <td> 1.048e-09</td> <td> 1.82e-09</td> <td>    0.576</td> <td> 0.565</td> <td>-2.52e-09</td> <td> 4.62e-09</td>\n",
       "</tr>\n",
       "<tr>\n",
       "  <th>PRED</th>      <td>    1.0000</td> <td> 3.68e-16</td> <td> 2.72e+15</td> <td> 0.000</td> <td>    1.000</td> <td>    1.000</td>\n",
       "</tr>\n",
       "</table>\n",
       "<table class=\"simpletable\">\n",
       "<tr>\n",
       "  <th>Omnibus:</th>       <td>1784.846</td> <th>  Durbin-Watson:     </th>  <td>   1.888</td>  \n",
       "</tr>\n",
       "<tr>\n",
       "  <th>Prob(Omnibus):</th>  <td> 0.000</td>  <th>  Jarque-Bera (JB):  </th> <td>6838204.673</td>\n",
       "</tr>\n",
       "<tr>\n",
       "  <th>Skew:</th>           <td>-19.003</td> <th>  Prob(JB):          </th>  <td>    0.00</td>  \n",
       "</tr>\n",
       "<tr>\n",
       "  <th>Kurtosis:</th>       <td>455.474</td> <th>  Cond. No.          </th>  <td>2.96e+22</td>  \n",
       "</tr>\n",
       "</table><br/><br/>Warnings:<br/>[1] Standard Errors assume that the covariance matrix of the errors is correctly specified.<br/>[2] The smallest eigenvalue is 1.1e-27. This might indicate that there are<br/>strong multicollinearity problems or that the design matrix is singular."
      ],
      "text/plain": [
       "<class 'statsmodels.iolib.summary.Summary'>\n",
       "\"\"\"\n",
       "                            OLS Regression Results                            \n",
       "==============================================================================\n",
       "Dep. Variable:                   PRED   R-squared:                       1.000\n",
       "Model:                            OLS   Adj. R-squared:                  1.000\n",
       "Method:                 Least Squares   F-statistic:                 1.532e+31\n",
       "Date:                Mon, 03 Aug 2020   Prob (F-statistic):               0.00\n",
       "Time:                        23:10:19   Log-Likelihood:                 13377.\n",
       "No. Observations:                 796   AIC:                        -2.672e+04\n",
       "Df Residuals:                     781   BIC:                        -2.665e+04\n",
       "Df Model:                          14                                         \n",
       "Covariance Type:            nonrobust                                         \n",
       "==============================================================================\n",
       "                 coef    std err          t      P>|t|      [0.025      0.975]\n",
       "------------------------------------------------------------------------------\n",
       "Intercept  -6.054e-09   2.83e-09     -2.143      0.032   -1.16e-08   -5.08e-10\n",
       "TYPE[T.E]   7.916e-09   8.98e-09      0.881      0.378   -9.72e-09    2.55e-08\n",
       "TYPE[T.F]   2.037e-10   9.99e-10      0.204      0.838   -1.76e-09    2.16e-09\n",
       "TYPE[T.R]  -1.863e-09   3.66e-09     -0.509      0.611   -9.04e-09    5.32e-09\n",
       "CHAN[T.C]    1.31e-09   9.92e-10      1.320      0.187   -6.38e-10    3.26e-09\n",
       "CHAN[T.D]  -1.444e-08   6.13e-09     -2.354      0.019   -2.65e-08    -2.4e-09\n",
       "CHAN[T.T]   3.798e-09   1.83e-09      2.070      0.039    1.97e-10     7.4e-09\n",
       "Serial      1.393e-12   1.95e-12      0.716      0.474   -2.43e-12    5.21e-12\n",
       "PRODUCT    -3.027e-09   2.83e-09     -1.071      0.284   -8.57e-09    2.52e-09\n",
       "AMOUNT      8.882e-16   3.03e-16      2.933      0.003    2.94e-16    1.48e-15\n",
       "ROI         1.164e-10   4.29e-10      0.271      0.786   -7.26e-10    9.59e-10\n",
       "LOWEST      6.939e-16   2.18e-16      3.177      0.002    2.65e-16    1.12e-15\n",
       "HIGHEST    -1.596e-16   1.92e-16     -0.830      0.407   -5.37e-16    2.18e-16\n",
       "SCORE      -1.684e-12   1.54e-12     -1.090      0.276   -4.72e-12    1.35e-12\n",
       "LTV         1.048e-09   1.82e-09      0.576      0.565   -2.52e-09    4.62e-09\n",
       "PRED           1.0000   3.68e-16   2.72e+15      0.000       1.000       1.000\n",
       "==============================================================================\n",
       "Omnibus:                     1784.846   Durbin-Watson:                   1.888\n",
       "Prob(Omnibus):                  0.000   Jarque-Bera (JB):          6838204.673\n",
       "Skew:                         -19.003   Prob(JB):                         0.00\n",
       "Kurtosis:                     455.474   Cond. No.                     2.96e+22\n",
       "==============================================================================\n",
       "\n",
       "Warnings:\n",
       "[1] Standard Errors assume that the covariance matrix of the errors is correctly specified.\n",
       "[2] The smallest eigenvalue is 1.1e-27. This might indicate that there are\n",
       "strong multicollinearity problems or that the design matrix is singular.\n",
       "\"\"\""
      ]
     },
     "execution_count": 39,
     "metadata": {},
     "output_type": "execute_result"
    }
   ],
   "source": [
    "m=smf.ols('PRED~Serial+PRODUCT+AMOUNT+TYPE+ROI+CHAN+LOWEST+HIGHEST+SCORE+LTV+PRED',data).fit()\n",
    "m.summary()"
   ]
  },
  {
   "cell_type": "code",
   "execution_count": 40,
   "metadata": {},
   "outputs": [],
   "source": [
    "d=x[['AMOUNT','LOWEST']]"
   ]
  },
  {
   "cell_type": "code",
   "execution_count": 41,
   "metadata": {},
   "outputs": [],
   "source": [
    "#Variable Transformation \n",
    "#Here we are using Robust scaler because outlier available\n",
    "from sklearn.preprocessing import RobustScaler\n",
    "x_scaled1=RobustScaler()\n",
    "x_scaled1.fit(d)\n",
    "x_scaled1=x_scaled1.transform(d)"
   ]
  },
  {
   "cell_type": "code",
   "execution_count": 42,
   "metadata": {},
   "outputs": [],
   "source": [
    "x_train1,x_test1,y_train1,y_test1=train_test_split(x_scaled1,y,test_size=0.2,random_state=12)"
   ]
  },
  {
   "cell_type": "code",
   "execution_count": 43,
   "metadata": {},
   "outputs": [
    {
     "data": {
      "text/plain": [
       "LinearRegression(copy_X=True, fit_intercept=True, n_jobs=1, normalize=False)"
      ]
     },
     "execution_count": 43,
     "metadata": {},
     "output_type": "execute_result"
    }
   ],
   "source": [
    "model.fit(x_train1,y_train1)"
   ]
  },
  {
   "cell_type": "code",
   "execution_count": 44,
   "metadata": {},
   "outputs": [],
   "source": [
    "y_pred1=model.predict(x_test1)"
   ]
  },
  {
   "cell_type": "code",
   "execution_count": 45,
   "metadata": {},
   "outputs": [
    {
     "data": {
      "text/html": [
       "<table class=\"simpletable\">\n",
       "<caption>OLS Regression Results</caption>\n",
       "<tr>\n",
       "  <th>Dep. Variable:</th>          <td>PRED</td>       <th>  R-squared:         </th> <td>   0.957</td> \n",
       "</tr>\n",
       "<tr>\n",
       "  <th>Model:</th>                   <td>OLS</td>       <th>  Adj. R-squared:    </th> <td>   0.957</td> \n",
       "</tr>\n",
       "<tr>\n",
       "  <th>Method:</th>             <td>Least Squares</td>  <th>  F-statistic:       </th> <td>   5939.</td> \n",
       "</tr>\n",
       "<tr>\n",
       "  <th>Date:</th>             <td>Mon, 03 Aug 2020</td> <th>  Prob (F-statistic):</th>  <td>  0.00</td>  \n",
       "</tr>\n",
       "<tr>\n",
       "  <th>Time:</th>                 <td>23:10:19</td>     <th>  Log-Likelihood:    </th> <td> -12361.</td> \n",
       "</tr>\n",
       "<tr>\n",
       "  <th>No. Observations:</th>      <td>   797</td>      <th>  AIC:               </th> <td>2.473e+04</td>\n",
       "</tr>\n",
       "<tr>\n",
       "  <th>Df Residuals:</th>          <td>   793</td>      <th>  BIC:               </th> <td>2.475e+04</td>\n",
       "</tr>\n",
       "<tr>\n",
       "  <th>Df Model:</th>              <td>     3</td>      <th>                     </th>     <td> </td>    \n",
       "</tr>\n",
       "<tr>\n",
       "  <th>Covariance Type:</th>      <td>nonrobust</td>    <th>                     </th>     <td> </td>    \n",
       "</tr>\n",
       "</table>\n",
       "<table class=\"simpletable\">\n",
       "<tr>\n",
       "      <td></td>         <th>coef</th>     <th>std err</th>      <th>t</th>      <th>P>|t|</th>  <th>[0.025</th>    <th>0.975]</th>  \n",
       "</tr>\n",
       "<tr>\n",
       "  <th>Intercept</th> <td>-1.802e+05</td> <td> 5.93e+04</td> <td>   -3.040</td> <td> 0.002</td> <td>-2.97e+05</td> <td>-6.39e+04</td>\n",
       "</tr>\n",
       "<tr>\n",
       "  <th>AMOUNT</th>    <td>    0.7287</td> <td>    0.016</td> <td>   45.788</td> <td> 0.000</td> <td>    0.698</td> <td>    0.760</td>\n",
       "</tr>\n",
       "<tr>\n",
       "  <th>LOWEST</th>    <td>    0.0837</td> <td>    0.021</td> <td>    4.043</td> <td> 0.000</td> <td>    0.043</td> <td>    0.124</td>\n",
       "</tr>\n",
       "<tr>\n",
       "  <th>HIGHEST</th>   <td>   -0.0120</td> <td>    0.020</td> <td>   -0.608</td> <td> 0.544</td> <td>   -0.051</td> <td>    0.027</td>\n",
       "</tr>\n",
       "</table>\n",
       "<table class=\"simpletable\">\n",
       "<tr>\n",
       "  <th>Omnibus:</th>       <td>748.874</td> <th>  Durbin-Watson:     </th> <td>   1.980</td> \n",
       "</tr>\n",
       "<tr>\n",
       "  <th>Prob(Omnibus):</th> <td> 0.000</td>  <th>  Jarque-Bera (JB):  </th> <td>49879.947</td>\n",
       "</tr>\n",
       "<tr>\n",
       "  <th>Skew:</th>          <td>-4.010</td>  <th>  Prob(JB):          </th> <td>    0.00</td> \n",
       "</tr>\n",
       "<tr>\n",
       "  <th>Kurtosis:</th>      <td>40.917</td>  <th>  Cond. No.          </th> <td>4.32e+07</td> \n",
       "</tr>\n",
       "</table><br/><br/>Warnings:<br/>[1] Standard Errors assume that the covariance matrix of the errors is correctly specified.<br/>[2] The condition number is large, 4.32e+07. This might indicate that there are<br/>strong multicollinearity or other numerical problems."
      ],
      "text/plain": [
       "<class 'statsmodels.iolib.summary.Summary'>\n",
       "\"\"\"\n",
       "                            OLS Regression Results                            \n",
       "==============================================================================\n",
       "Dep. Variable:                   PRED   R-squared:                       0.957\n",
       "Model:                            OLS   Adj. R-squared:                  0.957\n",
       "Method:                 Least Squares   F-statistic:                     5939.\n",
       "Date:                Mon, 03 Aug 2020   Prob (F-statistic):               0.00\n",
       "Time:                        23:10:19   Log-Likelihood:                -12361.\n",
       "No. Observations:                 797   AIC:                         2.473e+04\n",
       "Df Residuals:                     793   BIC:                         2.475e+04\n",
       "Df Model:                           3                                         \n",
       "Covariance Type:            nonrobust                                         \n",
       "==============================================================================\n",
       "                 coef    std err          t      P>|t|      [0.025      0.975]\n",
       "------------------------------------------------------------------------------\n",
       "Intercept  -1.802e+05   5.93e+04     -3.040      0.002   -2.97e+05   -6.39e+04\n",
       "AMOUNT         0.7287      0.016     45.788      0.000       0.698       0.760\n",
       "LOWEST         0.0837      0.021      4.043      0.000       0.043       0.124\n",
       "HIGHEST       -0.0120      0.020     -0.608      0.544      -0.051       0.027\n",
       "==============================================================================\n",
       "Omnibus:                      748.874   Durbin-Watson:                   1.980\n",
       "Prob(Omnibus):                  0.000   Jarque-Bera (JB):            49879.947\n",
       "Skew:                          -4.010   Prob(JB):                         0.00\n",
       "Kurtosis:                      40.917   Cond. No.                     4.32e+07\n",
       "==============================================================================\n",
       "\n",
       "Warnings:\n",
       "[1] Standard Errors assume that the covariance matrix of the errors is correctly specified.\n",
       "[2] The condition number is large, 4.32e+07. This might indicate that there are\n",
       "strong multicollinearity or other numerical problems.\n",
       "\"\"\""
      ]
     },
     "execution_count": 45,
     "metadata": {},
     "output_type": "execute_result"
    }
   ],
   "source": [
    "m=smf.ols('PRED~AMOUNT+LOWEST+HIGHEST',data).fit()\n",
    "m.summary()"
   ]
  },
  {
   "cell_type": "code",
   "execution_count": 46,
   "metadata": {},
   "outputs": [
    {
     "data": {
      "text/plain": [
       "803786469990.1458"
      ]
     },
     "execution_count": 46,
     "metadata": {},
     "output_type": "execute_result"
    }
   ],
   "source": [
    "mse=mean_squared_error(y_test1,y_pred1)\n",
    "mse"
   ]
  },
  {
   "cell_type": "code",
   "execution_count": 47,
   "metadata": {},
   "outputs": [
    {
     "data": {
      "text/plain": [
       "896541.3933501039"
      ]
     },
     "execution_count": 47,
     "metadata": {},
     "output_type": "execute_result"
    }
   ],
   "source": [
    "rmse=np.sqrt(mse)\n",
    "rmse"
   ]
  },
  {
   "cell_type": "code",
   "execution_count": 48,
   "metadata": {},
   "outputs": [
    {
     "data": {
      "text/plain": [
       "PRED    8.037865e+11\n",
       "dtype: float64"
      ]
     },
     "execution_count": 48,
     "metadata": {},
     "output_type": "execute_result"
    }
   ],
   "source": [
    "mse1= np.mean((model.predict(x_test1)-y_test1)**2)\n",
    "mse1"
   ]
  },
  {
   "cell_type": "code",
   "execution_count": 49,
   "metadata": {},
   "outputs": [
    {
     "data": {
      "text/plain": [
       "PRED    896541.39335\n",
       "dtype: float64"
      ]
     },
     "execution_count": 49,
     "metadata": {},
     "output_type": "execute_result"
    }
   ],
   "source": [
    "rmse1=np.sqrt(mse1)\n",
    "rmse1"
   ]
  },
  {
   "cell_type": "code",
   "execution_count": 50,
   "metadata": {},
   "outputs": [
    {
     "data": {
      "text/plain": [
       "0.9091509441099882"
      ]
     },
     "execution_count": 50,
     "metadata": {},
     "output_type": "execute_result"
    }
   ],
   "source": [
    "#Test Score\n",
    "model.score(x_test1,y_test1)"
   ]
  },
  {
   "cell_type": "code",
   "execution_count": 56,
   "metadata": {},
   "outputs": [
    {
     "data": {
      "text/plain": [
       "PRED    1.970598e+12\n",
       "dtype: float64"
      ]
     },
     "execution_count": 56,
     "metadata": {},
     "output_type": "execute_result"
    }
   ],
   "source": [
    "mse2= np.mean((model.predict(x_train1)-y_train1)**2)\n",
    "mse2"
   ]
  },
  {
   "cell_type": "code",
   "execution_count": 57,
   "metadata": {},
   "outputs": [
    {
     "data": {
      "text/plain": [
       "PRED    1.403780e+06\n",
       "dtype: float64"
      ]
     },
     "execution_count": 57,
     "metadata": {},
     "output_type": "execute_result"
    }
   ],
   "source": [
    "rmse2=np.sqrt(mse2)\n",
    "rmse2"
   ]
  },
  {
   "cell_type": "code",
   "execution_count": 58,
   "metadata": {},
   "outputs": [
    {
     "data": {
      "text/plain": [
       "0.9594563114331495"
      ]
     },
     "execution_count": 58,
     "metadata": {},
     "output_type": "execute_result"
    }
   ],
   "source": [
    "#Train Score\n",
    "model.score(x_train1,y_train1)"
   ]
  },
  {
   "cell_type": "code",
   "execution_count": 51,
   "metadata": {},
   "outputs": [
    {
     "data": {
      "text/html": [
       "<div>\n",
       "<style scoped>\n",
       "    .dataframe tbody tr th:only-of-type {\n",
       "        vertical-align: middle;\n",
       "    }\n",
       "\n",
       "    .dataframe tbody tr th {\n",
       "        vertical-align: top;\n",
       "    }\n",
       "\n",
       "    .dataframe thead th {\n",
       "        text-align: right;\n",
       "    }\n",
       "</style>\n",
       "<table border=\"1\" class=\"dataframe\">\n",
       "  <thead>\n",
       "    <tr style=\"text-align: right;\">\n",
       "      <th></th>\n",
       "      <th>0</th>\n",
       "    </tr>\n",
       "  </thead>\n",
       "  <tbody>\n",
       "    <tr>\n",
       "      <th>216</th>\n",
       "      <td>960000.0</td>\n",
       "    </tr>\n",
       "    <tr>\n",
       "      <th>381</th>\n",
       "      <td>3350000.0</td>\n",
       "    </tr>\n",
       "    <tr>\n",
       "      <th>63</th>\n",
       "      <td>1830000.0</td>\n",
       "    </tr>\n",
       "    <tr>\n",
       "      <th>229</th>\n",
       "      <td>7400000.0</td>\n",
       "    </tr>\n",
       "    <tr>\n",
       "      <th>467</th>\n",
       "      <td>3400000.0</td>\n",
       "    </tr>\n",
       "  </tbody>\n",
       "</table>\n",
       "</div>"
      ],
      "text/plain": [
       "             0\n",
       "216   960000.0\n",
       "381  3350000.0\n",
       "63   1830000.0\n",
       "229  7400000.0\n",
       "467  3400000.0"
      ]
     },
     "execution_count": 51,
     "metadata": {},
     "output_type": "execute_result"
    }
   ],
   "source": [
    "round(pd.DataFrame(y_pred1,index=y_test.index),-4).head()"
   ]
  },
  {
   "cell_type": "code",
   "execution_count": 52,
   "metadata": {},
   "outputs": [
    {
     "data": {
      "text/html": [
       "<div>\n",
       "<style scoped>\n",
       "    .dataframe tbody tr th:only-of-type {\n",
       "        vertical-align: middle;\n",
       "    }\n",
       "\n",
       "    .dataframe tbody tr th {\n",
       "        vertical-align: top;\n",
       "    }\n",
       "\n",
       "    .dataframe thead th {\n",
       "        text-align: right;\n",
       "    }\n",
       "</style>\n",
       "<table border=\"1\" class=\"dataframe\">\n",
       "  <thead>\n",
       "    <tr style=\"text-align: right;\">\n",
       "      <th></th>\n",
       "      <th>PRED</th>\n",
       "    </tr>\n",
       "  </thead>\n",
       "  <tbody>\n",
       "    <tr>\n",
       "      <th>216</th>\n",
       "      <td>420000</td>\n",
       "    </tr>\n",
       "    <tr>\n",
       "      <th>381</th>\n",
       "      <td>4200000</td>\n",
       "    </tr>\n",
       "    <tr>\n",
       "      <th>63</th>\n",
       "      <td>2350000</td>\n",
       "    </tr>\n",
       "    <tr>\n",
       "      <th>229</th>\n",
       "      <td>9000000</td>\n",
       "    </tr>\n",
       "    <tr>\n",
       "      <th>467</th>\n",
       "      <td>3000000</td>\n",
       "    </tr>\n",
       "  </tbody>\n",
       "</table>\n",
       "</div>"
      ],
      "text/plain": [
       "        PRED\n",
       "216   420000\n",
       "381  4200000\n",
       "63   2350000\n",
       "229  9000000\n",
       "467  3000000"
      ]
     },
     "execution_count": 52,
     "metadata": {},
     "output_type": "execute_result"
    }
   ],
   "source": [
    "y_test.head()"
   ]
  },
  {
   "cell_type": "code",
   "execution_count": 53,
   "metadata": {},
   "outputs": [
    {
     "data": {
      "text/html": [
       "<div>\n",
       "<style scoped>\n",
       "    .dataframe tbody tr th:only-of-type {\n",
       "        vertical-align: middle;\n",
       "    }\n",
       "\n",
       "    .dataframe tbody tr th {\n",
       "        vertical-align: top;\n",
       "    }\n",
       "\n",
       "    .dataframe thead th {\n",
       "        text-align: right;\n",
       "    }\n",
       "</style>\n",
       "<table border=\"1\" class=\"dataframe\">\n",
       "  <thead>\n",
       "    <tr style=\"text-align: right;\">\n",
       "      <th></th>\n",
       "      <th>0</th>\n",
       "      <th>PRED</th>\n",
       "    </tr>\n",
       "  </thead>\n",
       "  <tbody>\n",
       "    <tr>\n",
       "      <th>216</th>\n",
       "      <td>960000.0</td>\n",
       "      <td>420000</td>\n",
       "    </tr>\n",
       "    <tr>\n",
       "      <th>381</th>\n",
       "      <td>3350000.0</td>\n",
       "      <td>4200000</td>\n",
       "    </tr>\n",
       "    <tr>\n",
       "      <th>63</th>\n",
       "      <td>1830000.0</td>\n",
       "      <td>2350000</td>\n",
       "    </tr>\n",
       "    <tr>\n",
       "      <th>229</th>\n",
       "      <td>7400000.0</td>\n",
       "      <td>9000000</td>\n",
       "    </tr>\n",
       "    <tr>\n",
       "      <th>467</th>\n",
       "      <td>3400000.0</td>\n",
       "      <td>3000000</td>\n",
       "    </tr>\n",
       "    <tr>\n",
       "      <th>658</th>\n",
       "      <td>3630000.0</td>\n",
       "      <td>2400000</td>\n",
       "    </tr>\n",
       "    <tr>\n",
       "      <th>431</th>\n",
       "      <td>1860000.0</td>\n",
       "      <td>1970000</td>\n",
       "    </tr>\n",
       "    <tr>\n",
       "      <th>483</th>\n",
       "      <td>1010000.0</td>\n",
       "      <td>1436000</td>\n",
       "    </tr>\n",
       "    <tr>\n",
       "      <th>298</th>\n",
       "      <td>1580000.0</td>\n",
       "      <td>2100000</td>\n",
       "    </tr>\n",
       "    <tr>\n",
       "      <th>772</th>\n",
       "      <td>4720000.0</td>\n",
       "      <td>4440000</td>\n",
       "    </tr>\n",
       "    <tr>\n",
       "      <th>703</th>\n",
       "      <td>4970000.0</td>\n",
       "      <td>5000000</td>\n",
       "    </tr>\n",
       "    <tr>\n",
       "      <th>595</th>\n",
       "      <td>1240000.0</td>\n",
       "      <td>1625000</td>\n",
       "    </tr>\n",
       "    <tr>\n",
       "      <th>321</th>\n",
       "      <td>1990000.0</td>\n",
       "      <td>2590000</td>\n",
       "    </tr>\n",
       "    <tr>\n",
       "      <th>444</th>\n",
       "      <td>1380000.0</td>\n",
       "      <td>1770000</td>\n",
       "    </tr>\n",
       "    <tr>\n",
       "      <th>482</th>\n",
       "      <td>2840000.0</td>\n",
       "      <td>3500000</td>\n",
       "    </tr>\n",
       "    <tr>\n",
       "      <th>518</th>\n",
       "      <td>1640000.0</td>\n",
       "      <td>1500000</td>\n",
       "    </tr>\n",
       "    <tr>\n",
       "      <th>341</th>\n",
       "      <td>1400000.0</td>\n",
       "      <td>1800000</td>\n",
       "    </tr>\n",
       "    <tr>\n",
       "      <th>98</th>\n",
       "      <td>1460000.0</td>\n",
       "      <td>1963000</td>\n",
       "    </tr>\n",
       "    <tr>\n",
       "      <th>177</th>\n",
       "      <td>3490000.0</td>\n",
       "      <td>2400000</td>\n",
       "    </tr>\n",
       "    <tr>\n",
       "      <th>519</th>\n",
       "      <td>3430000.0</td>\n",
       "      <td>4300000</td>\n",
       "    </tr>\n",
       "    <tr>\n",
       "      <th>702</th>\n",
       "      <td>1020000.0</td>\n",
       "      <td>1350000</td>\n",
       "    </tr>\n",
       "    <tr>\n",
       "      <th>502</th>\n",
       "      <td>3990000.0</td>\n",
       "      <td>3500000</td>\n",
       "    </tr>\n",
       "    <tr>\n",
       "      <th>697</th>\n",
       "      <td>1550000.0</td>\n",
       "      <td>2000000</td>\n",
       "    </tr>\n",
       "    <tr>\n",
       "      <th>385</th>\n",
       "      <td>1900000.0</td>\n",
       "      <td>1300000</td>\n",
       "    </tr>\n",
       "    <tr>\n",
       "      <th>765</th>\n",
       "      <td>4080000.0</td>\n",
       "      <td>4500000</td>\n",
       "    </tr>\n",
       "    <tr>\n",
       "      <th>280</th>\n",
       "      <td>4380000.0</td>\n",
       "      <td>3000000</td>\n",
       "    </tr>\n",
       "    <tr>\n",
       "      <th>707</th>\n",
       "      <td>1180000.0</td>\n",
       "      <td>1500000</td>\n",
       "    </tr>\n",
       "    <tr>\n",
       "      <th>136</th>\n",
       "      <td>850000.0</td>\n",
       "      <td>1200000</td>\n",
       "    </tr>\n",
       "    <tr>\n",
       "      <th>319</th>\n",
       "      <td>4220000.0</td>\n",
       "      <td>4000000</td>\n",
       "    </tr>\n",
       "    <tr>\n",
       "      <th>258</th>\n",
       "      <td>1540000.0</td>\n",
       "      <td>2001000</td>\n",
       "    </tr>\n",
       "    <tr>\n",
       "      <th>...</th>\n",
       "      <td>...</td>\n",
       "      <td>...</td>\n",
       "    </tr>\n",
       "    <tr>\n",
       "      <th>326</th>\n",
       "      <td>500000.0</td>\n",
       "      <td>800000</td>\n",
       "    </tr>\n",
       "    <tr>\n",
       "      <th>574</th>\n",
       "      <td>3250000.0</td>\n",
       "      <td>4000000</td>\n",
       "    </tr>\n",
       "    <tr>\n",
       "      <th>349</th>\n",
       "      <td>1240000.0</td>\n",
       "      <td>1150000</td>\n",
       "    </tr>\n",
       "    <tr>\n",
       "      <th>731</th>\n",
       "      <td>4160000.0</td>\n",
       "      <td>5024000</td>\n",
       "    </tr>\n",
       "    <tr>\n",
       "      <th>732</th>\n",
       "      <td>4480000.0</td>\n",
       "      <td>5500000</td>\n",
       "    </tr>\n",
       "    <tr>\n",
       "      <th>408</th>\n",
       "      <td>2080000.0</td>\n",
       "      <td>2005000</td>\n",
       "    </tr>\n",
       "    <tr>\n",
       "      <th>423</th>\n",
       "      <td>2880000.0</td>\n",
       "      <td>3300000</td>\n",
       "    </tr>\n",
       "    <tr>\n",
       "      <th>59</th>\n",
       "      <td>2370000.0</td>\n",
       "      <td>2500000</td>\n",
       "    </tr>\n",
       "    <tr>\n",
       "      <th>750</th>\n",
       "      <td>14240000.0</td>\n",
       "      <td>16500000</td>\n",
       "    </tr>\n",
       "    <tr>\n",
       "      <th>193</th>\n",
       "      <td>1930000.0</td>\n",
       "      <td>1800000</td>\n",
       "    </tr>\n",
       "    <tr>\n",
       "      <th>377</th>\n",
       "      <td>530000.0</td>\n",
       "      <td>800000</td>\n",
       "    </tr>\n",
       "    <tr>\n",
       "      <th>640</th>\n",
       "      <td>1400000.0</td>\n",
       "      <td>1850000</td>\n",
       "    </tr>\n",
       "    <tr>\n",
       "      <th>648</th>\n",
       "      <td>780000.0</td>\n",
       "      <td>1100000</td>\n",
       "    </tr>\n",
       "    <tr>\n",
       "      <th>541</th>\n",
       "      <td>1900000.0</td>\n",
       "      <td>2450000</td>\n",
       "    </tr>\n",
       "    <tr>\n",
       "      <th>683</th>\n",
       "      <td>7310000.0</td>\n",
       "      <td>9000000</td>\n",
       "    </tr>\n",
       "    <tr>\n",
       "      <th>485</th>\n",
       "      <td>3760000.0</td>\n",
       "      <td>4500000</td>\n",
       "    </tr>\n",
       "    <tr>\n",
       "      <th>405</th>\n",
       "      <td>5890000.0</td>\n",
       "      <td>7010000</td>\n",
       "    </tr>\n",
       "    <tr>\n",
       "      <th>692</th>\n",
       "      <td>9080000.0</td>\n",
       "      <td>9600000</td>\n",
       "    </tr>\n",
       "    <tr>\n",
       "      <th>397</th>\n",
       "      <td>5450000.0</td>\n",
       "      <td>3800000</td>\n",
       "    </tr>\n",
       "    <tr>\n",
       "      <th>368</th>\n",
       "      <td>17210000.0</td>\n",
       "      <td>23000000</td>\n",
       "    </tr>\n",
       "    <tr>\n",
       "      <th>168</th>\n",
       "      <td>1150000.0</td>\n",
       "      <td>1400000</td>\n",
       "    </tr>\n",
       "    <tr>\n",
       "      <th>224</th>\n",
       "      <td>5250000.0</td>\n",
       "      <td>5000000</td>\n",
       "    </tr>\n",
       "    <tr>\n",
       "      <th>695</th>\n",
       "      <td>2890000.0</td>\n",
       "      <td>2500000</td>\n",
       "    </tr>\n",
       "    <tr>\n",
       "      <th>446</th>\n",
       "      <td>4110000.0</td>\n",
       "      <td>3500000</td>\n",
       "    </tr>\n",
       "    <tr>\n",
       "      <th>195</th>\n",
       "      <td>1040000.0</td>\n",
       "      <td>1450000</td>\n",
       "    </tr>\n",
       "    <tr>\n",
       "      <th>129</th>\n",
       "      <td>4580000.0</td>\n",
       "      <td>5000000</td>\n",
       "    </tr>\n",
       "    <tr>\n",
       "      <th>41</th>\n",
       "      <td>2380000.0</td>\n",
       "      <td>2500000</td>\n",
       "    </tr>\n",
       "    <tr>\n",
       "      <th>561</th>\n",
       "      <td>6470000.0</td>\n",
       "      <td>7500000</td>\n",
       "    </tr>\n",
       "    <tr>\n",
       "      <th>733</th>\n",
       "      <td>6050000.0</td>\n",
       "      <td>5500000</td>\n",
       "    </tr>\n",
       "    <tr>\n",
       "      <th>492</th>\n",
       "      <td>1610000.0</td>\n",
       "      <td>1800000</td>\n",
       "    </tr>\n",
       "  </tbody>\n",
       "</table>\n",
       "<p>160 rows × 2 columns</p>\n",
       "</div>"
      ],
      "text/plain": [
       "              0      PRED\n",
       "216    960000.0    420000\n",
       "381   3350000.0   4200000\n",
       "63    1830000.0   2350000\n",
       "229   7400000.0   9000000\n",
       "467   3400000.0   3000000\n",
       "658   3630000.0   2400000\n",
       "431   1860000.0   1970000\n",
       "483   1010000.0   1436000\n",
       "298   1580000.0   2100000\n",
       "772   4720000.0   4440000\n",
       "703   4970000.0   5000000\n",
       "595   1240000.0   1625000\n",
       "321   1990000.0   2590000\n",
       "444   1380000.0   1770000\n",
       "482   2840000.0   3500000\n",
       "518   1640000.0   1500000\n",
       "341   1400000.0   1800000\n",
       "98    1460000.0   1963000\n",
       "177   3490000.0   2400000\n",
       "519   3430000.0   4300000\n",
       "702   1020000.0   1350000\n",
       "502   3990000.0   3500000\n",
       "697   1550000.0   2000000\n",
       "385   1900000.0   1300000\n",
       "765   4080000.0   4500000\n",
       "280   4380000.0   3000000\n",
       "707   1180000.0   1500000\n",
       "136    850000.0   1200000\n",
       "319   4220000.0   4000000\n",
       "258   1540000.0   2001000\n",
       "..          ...       ...\n",
       "326    500000.0    800000\n",
       "574   3250000.0   4000000\n",
       "349   1240000.0   1150000\n",
       "731   4160000.0   5024000\n",
       "732   4480000.0   5500000\n",
       "408   2080000.0   2005000\n",
       "423   2880000.0   3300000\n",
       "59    2370000.0   2500000\n",
       "750  14240000.0  16500000\n",
       "193   1930000.0   1800000\n",
       "377    530000.0    800000\n",
       "640   1400000.0   1850000\n",
       "648    780000.0   1100000\n",
       "541   1900000.0   2450000\n",
       "683   7310000.0   9000000\n",
       "485   3760000.0   4500000\n",
       "405   5890000.0   7010000\n",
       "692   9080000.0   9600000\n",
       "397   5450000.0   3800000\n",
       "368  17210000.0  23000000\n",
       "168   1150000.0   1400000\n",
       "224   5250000.0   5000000\n",
       "695   2890000.0   2500000\n",
       "446   4110000.0   3500000\n",
       "195   1040000.0   1450000\n",
       "129   4580000.0   5000000\n",
       "41    2380000.0   2500000\n",
       "561   6470000.0   7500000\n",
       "733   6050000.0   5500000\n",
       "492   1610000.0   1800000\n",
       "\n",
       "[160 rows x 2 columns]"
      ]
     },
     "execution_count": 53,
     "metadata": {},
     "output_type": "execute_result"
    }
   ],
   "source": [
    "pd.concat([round(pd.DataFrame(y_pred1,index=y_test.index),-4),y_test1],axis=1)"
   ]
  },
  {
   "cell_type": "code",
   "execution_count": 54,
   "metadata": {},
   "outputs": [],
   "source": [
    "from sklearn.metrics import r2_score "
   ]
  },
  {
   "cell_type": "code",
   "execution_count": 55,
   "metadata": {},
   "outputs": [
    {
     "data": {
      "text/plain": [
       "0.893088950650717"
      ]
     },
     "execution_count": 55,
     "metadata": {},
     "output_type": "execute_result"
    }
   ],
   "source": [
    "r2_score(y_pred1,y_test1)"
   ]
  },
  {
   "cell_type": "code",
   "execution_count": 103,
   "metadata": {},
   "outputs": [
    {
     "data": {
      "text/plain": [
       "3359531.25"
      ]
     },
     "execution_count": 103,
     "metadata": {},
     "output_type": "execute_result"
    }
   ],
   "source": [
    "mean=y_test1.PRED.mean()\n",
    "mean"
   ]
  },
  {
   "cell_type": "code",
   "execution_count": 104,
   "metadata": {},
   "outputs": [],
   "source": [
    "#Residual Error\n",
    "SSE=np.sum((y_test1-y_pred1)**2)\n",
    "SSR=np.sum((y_pred1-mean)**2)"
   ]
  },
  {
   "cell_type": "code",
   "execution_count": 105,
   "metadata": {},
   "outputs": [
    {
     "data": {
      "text/plain": [
       "PRED    0.903666\n",
       "dtype: float64"
      ]
     },
     "execution_count": 105,
     "metadata": {},
     "output_type": "execute_result"
    }
   ],
   "source": [
    "#R2 Value\n",
    "SSR/(SSE+SSR)"
   ]
  },
  {
   "cell_type": "code",
   "execution_count": 106,
   "metadata": {},
   "outputs": [
    {
     "data": {
      "text/plain": [
       "PRED    0.096334\n",
       "dtype: float64"
      ]
     },
     "execution_count": 106,
     "metadata": {},
     "output_type": "execute_result"
    }
   ],
   "source": [
    "#Residual Error\n",
    "SSE/(SSE+SSR)"
   ]
  },
  {
   "cell_type": "code",
   "execution_count": null,
   "metadata": {},
   "outputs": [],
   "source": []
  }
 ],
 "metadata": {
  "kernelspec": {
   "display_name": "Python 3",
   "language": "python",
   "name": "python3"
  },
  "language_info": {
   "codemirror_mode": {
    "name": "ipython",
    "version": 3
   },
   "file_extension": ".py",
   "mimetype": "text/x-python",
   "name": "python",
   "nbconvert_exporter": "python",
   "pygments_lexer": "ipython3",
   "version": "3.6.5"
  }
 },
 "nbformat": 4,
 "nbformat_minor": 2
}
